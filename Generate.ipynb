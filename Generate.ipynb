{
 "cells": [
  {
   "cell_type": "markdown",
   "metadata": {},
   "source": [
    "# Python Scripts to Control the ASG Module\n",
    "\n",
    "As it is well known, Python can be used to access the RedPitaya registers by using the *periphery module*. We control the ASG module on the RedPitaya using a simple Python script.  \n",
    "\n",
    "## HW Configuration \n",
    "\n",
    "Connect IN1 to OUT1 on your RedPitaya board and the range jumper on IN1 to LV. If the *periphery* module is nor installed you may install it with the *!pip install periphery* command line on a new cell.\n",
    "\n",
    "We will make extensive use the RedPitaya memory map, it  may be consulted here:"
   ]
  },
  {
   "cell_type": "code",
   "execution_count": 1,
   "metadata": {
    "executionInfo": {
     "elapsed": 204,
     "status": "ok",
     "timestamp": 1659826261487,
     "user": {
      "displayName": "Luis Villasenor",
      "userId": "01803698203534667062"
     },
     "user_tz": 300
    },
    "id": "9vtGiyoLT3Vn",
    "tags": []
   },
   "outputs": [
    {
     "data": {
      "text/html": [
       "\n",
       "        <iframe\n",
       "            width=\"900\"\n",
       "            height=\"300\"\n",
       "            src=\"https://redpitaya.readthedocs.io/en/latest/developerGuide/software/build/fpga/regset_common.html\"\n",
       "            frameborder=\"0\"\n",
       "            allowfullscreen\n",
       "        ></iframe>\n",
       "        "
      ],
      "text/plain": [
       "<IPython.lib.display.IFrame at 0xb43620d0>"
      ]
     },
     "execution_count": 1,
     "metadata": {},
     "output_type": "execute_result"
    }
   ],
   "source": [
    "from IPython.display import IFrame\n",
    "IFrame(\"https://redpitaya.readthedocs.io/en/latest/developerGuide/software/build/fpga/regset_common.html\", width=900, height=300)"
   ]
  },
  {
   "cell_type": "markdown",
   "metadata": {},
   "source": [
    "### Arbitrary Signal in Burst Mode with the following parameters:\n",
    "\n",
    "- frequency : 1 MHz\n",
    "\n",
    "- One cycles per burst\n",
    "\n",
    "- Cycle duration of 1 us (f = 1 MHz)\n",
    "\n",
    "- One replica delayed 2 us\n",
    "\n",
    "- Repeated until stopped at a rate of 1 Hz\n",
    "\n"
   ]
  },
  {
   "cell_type": "code",
   "execution_count": null,
   "metadata": {},
   "outputs": [
    {
     "name": "stdout",
     "output_type": "stream",
     "text": [
      "Time per cycle = 1e-06  us\n",
      "1 2 3 4 5 6 7 8 9 10 11 12 13 14 15 16 17 18 19 20 21 22 23 24 25 26 27 28 29 30 31 32 33 34 35 36 37 38 39 40 41 42 43 44 45 46 47 48 49 50 51 52 53 54 55 56 57 58 59 60 61 62 63 64 65 66 67 68 69 70 71 72 73 74 75 76 77 78 79 80 81 82 83 84 85 86 87 88 89 90 91 92 93 94 95 96 97 98 99 100 101 102 103 104 105 106 107 108 109 110 111 112 113 114 115 116 117 118 119 120 121 122 123 124 125 126 127 128 129 130 131 132 133 134 135 136 137 138 139 140 141 142 143 144 145 146 147 148 149 150 151 152 153 154 155 156 157 158 159 160 161 162 163 164 165 166 167 168 169 170 171 172 173 174 175 176 177 178 179 180 181 182 183 184 185 186 187 188 189 190 191 192 193 194 195 196 197 198 199 200 201 202 203 204 205 206 207 208 209 210 211 212 213 214 215 216 217 218 219 220 221 222 223 224 225 226 227 228 229 230 231 232 233 234 235 236 237 238 239 240 241 242 243 244 245 246 247 248 249 250 251 252 253 254 255 256 257 258 259 260 261 262 263 264 265 266 267 268 269 270 271 272 273 274 275 276 277 278 279 280 281 282 283 284 285 286 287 288 289 290 291 292 293 294 295 296 297 298 299 300 301 302 303 304 305 306 307 308 309 310 311 312 313 314 315 316 317 318 319 320 321 322 323 324 325 326 327 328 329 330 331 332 333 334 335 336 337 338 339 340 341 342 343 344 345 346 347 348 349 350 351 352 353 354 355 356 357 358 359 360 361 362 363 364 365 366 367 368 369 370 371 372 373 374 375 376 377 378 379 380 381 382 383 384 385 386 387 388 389 390 391 392 393 394 395 396 397 398 399 400 401 402 403 404 405 406 407 408 409 410 411 412 413 414 415 416 417 418 419 420 421 422 423 424 425 426 427 428 429 430 431 432 433 434 435 436 437 438 439 440 441 442 443 444 445 446 447 448 449 450 451 452 453 454 455 456 457 458 459 460 461 462 463 464 465 466 467 468 469 470 471 "
     ]
    }
   ],
   "source": [
    "#!/usr/bin/python\n",
    "######################################## inputs\n",
    "CHANNEL = 1 # 1 \n",
    "f = 1000000 # Hz\n",
    "n_cycles = 1 # each cycle of 1 us\n",
    "n_replicas = 1\n",
    "delay = 2 # us after the end of the 2 cycles\n",
    "period = 1 # second\n",
    "########################################\n",
    "from periphery import MMIO\n",
    "import time\n",
    "import numpy as np\n",
    "IP_BASE_ADDRESS = 0x40200000 # ASG\n",
    "\n",
    "######################################## # define wave\n",
    "\n",
    "def wave():\n",
    "    Y=[]\n",
    "    w = 2**14\n",
    "    tau = w/10\n",
    "    x1 = w/2\n",
    "    for x in range(w):\n",
    "        if x<x1:y = np.exp(-x/tau) \n",
    "        else : y = .5*np.exp(-(x-x1)/tau) \n",
    "        Y.append(-y)  \n",
    "    return Y\n",
    "######################################## Stop DAC1\n",
    "ADDRESS_RANGE = 0x24\n",
    "regset = MMIO(IP_BASE_ADDRESS, ADDRESS_RANGE)\n",
    "regset.write16(0,0x80) # Stop DAC1\n",
    "######################################## calculate step\n",
    "BUFFER_SIZE=16384\n",
    "step = int(2**16 * f /(125000000 / BUFFER_SIZE))\n",
    "print (\"Time per cycle =\", 1/f, \" us\")\n",
    "######################################## write step for appropiate frequency\n",
    "regset.write32(0x10,step) # write new step\n",
    "######################################## configure burst structure \n",
    "regset.write16(0x18,n_cycles) # number of read cycles in one burst\n",
    "regset.write16(0x1C,n_replicas) # number of burst repetitions \n",
    "regset.write32(0x20,delay) # delay between burst repetitions in us\n",
    "######################################## Copy wave to memory register\n",
    "IP_BASE_ADDRESS += 0x10000 # Ch A memory data (16k samples)\n",
    "ADDRESS_RANGE = 0x1FFFC - 0x10000 # 65532 = 16k * 4\n",
    "regset = MMIO(IP_BASE_ADDRESS, ADDRESS_RANGE)\n",
    "V_ASG = wave()\n",
    "for adr in range(0,0x1FFFC-0x10000,0x4): # 65532\n",
    "    i=int(adr/4)\n",
    "    DATA_VOLT = V_ASG[i]\n",
    "    if (DATA_VOLT > 1): DATA_VOLT = 1\n",
    "    if (DATA_VOLT < -1): DATA_VOLT = -1\n",
    "    if (DATA_VOLT>=0):\n",
    "        DATA = int(np.round((DATA_VOLT)*2**13))-1\n",
    "    else:\n",
    "        DATA = int(np.round((1+DATA_VOLT)*2**13)+2**13) \n",
    "    if (DATA > 2**14-1): DATA = 2**14-1\n",
    "    if (DATA < 0): DATA = 0\n",
    "    regset.write16(adr,DATA)\n",
    "regset = MMIO(0x40200000, 0x2)\n",
    "n = 0\n",
    "while(1):\n",
    "    n += 1\n",
    "    regset.write16(0,1) # Start DAC1 in 1-trig immediately configuration\n",
    "    time.sleep(period)\n",
    "    regset.write16(0,0)\n",
    "    print(n,end=\" \")\n",
    "regset.close()\n"
   ]
  },
  {
   "cell_type": "code",
   "execution_count": null,
   "metadata": {},
   "outputs": [],
   "source": []
  }
 ],
 "metadata": {
  "colab": {
   "authorship_tag": "ABX9TyNv0BGQrNPPZX93zBOwB6ov",
   "collapsed_sections": [],
   "name": "Python_MMIO_v8_OK.ipynb",
   "provenance": []
  },
  "kernelspec": {
   "display_name": "Python 3",
   "language": "python",
   "name": "python3"
  },
  "language_info": {
   "codemirror_mode": {
    "name": "ipython",
    "version": 3
   },
   "file_extension": ".py",
   "mimetype": "text/x-python",
   "name": "python",
   "nbconvert_exporter": "python",
   "pygments_lexer": "ipython3",
   "version": "3.7.3"
  }
 },
 "nbformat": 4,
 "nbformat_minor": 4
}
