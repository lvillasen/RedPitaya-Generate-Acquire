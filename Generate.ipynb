{
 "cells": [
  {
   "cell_type": "markdown",
   "metadata": {},
   "source": [
    "# Python Script to Control the ASG Module\n",
    "\n",
    "As it is well known, Python can be used to access the RedPitaya registers by using the *periphery module*. We control the ASG module on the RedPitaya using a simple Python script.  \n",
    "\n",
    "## HW Configuration \n",
    "\n",
    "Connect IN1 to OUT1 on your RedPitaya board and the range jumper on IN1 to LV. If the *periphery* module is nor installed you may install it with the *!pip install periphery* command line on a new cell.\n",
    "\n",
    "We will make extensive use the RedPitaya memory map, it  may be consulted here:"
   ]
  },
  {
   "cell_type": "code",
   "execution_count": null,
   "metadata": {
    "executionInfo": {
     "elapsed": 204,
     "status": "ok",
     "timestamp": 1659826261487,
     "user": {
      "displayName": "Luis Villasenor",
      "userId": "01803698203534667062"
     },
     "user_tz": 300
    },
    "id": "9vtGiyoLT3Vn",
    "tags": []
   },
   "outputs": [],
   "source": [
    "from IPython.display import IFrame\n",
    "IFrame(\"https://redpitaya.readthedocs.io/en/latest/developerGuide/software/build/fpga/regset_common.html\", width=900, height=300)"
   ]
  },
  {
   "cell_type": "markdown",
   "metadata": {},
   "source": [
    "### Arbitrary Signal in Burst Mode with the following parameters:\n",
    "\n",
    "- frequency : 1 MHz\n",
    "\n",
    "- One cycle per burst\n",
    "\n",
    "- Cycle duration of 1 us (f = 1 MHz)\n",
    "\n",
    "- One replica delayed 2 us\n",
    "\n",
    "- Repeated until stopped at a rate of 1 Hz\n",
    "\n"
   ]
  },
  {
   "cell_type": "code",
   "execution_count": null,
   "metadata": {},
   "outputs": [],
   "source": [
    "#!/usr/bin/python\n",
    "######################################## inputs\n",
    "CHANNEL = 1 # 1 \n",
    "f = 1000000 # Hz\n",
    "n_cycles = 1 # each cycle of 1 us\n",
    "n_replicas = 1\n",
    "delay = 1 # us after the end of the 2 cycles\n",
    "period = 1 # second\n",
    "########################################\n",
    "from periphery import MMIO\n",
    "import time\n",
    "import numpy as np\n",
    "IP_BASE_ADDRESS = 0x40200000 # ASG\n",
    "\n",
    "######################################## # define wave\n",
    "\n",
    "def wave():\n",
    "    Y=[]\n",
    "    w = 2**14\n",
    "    tau = w/10\n",
    "    x1 = w/2\n",
    "    for x in range(w):\n",
    "        if x<x1:y = np.exp(-x/tau) \n",
    "        else : y = .5*np.exp(-(x-x1)/tau) \n",
    "        Y.append(-y)  \n",
    "    return Y\n",
    "######################################## Stop DAC1\n",
    "ADDRESS_RANGE = 0x24\n",
    "regset = MMIO(IP_BASE_ADDRESS, ADDRESS_RANGE)\n",
    "regset.write16(0,0x80) # Stop DAC1\n",
    "######################################## calculate step\n",
    "BUFFER_SIZE=16384\n",
    "step = int(2**16 * f /(125000000 / BUFFER_SIZE))\n",
    "print (\"Time per cycle =\", 1/f, \" us\")\n",
    "######################################## write step for appropiate frequency\n",
    "regset.write32(0x10,step) # write new step\n",
    "######################################## configure burst structure \n",
    "regset.write16(0x18,n_cycles) # number of read cycles in one burst\n",
    "regset.write16(0x1C,n_replicas) # number of burst repetitions \n",
    "regset.write32(0x20,delay) # delay between burst repetitions in us\n",
    "######################################## Copy wave to memory register\n",
    "IP_BASE_ADDRESS += 0x10000 # Ch A memory data (16k samples)\n",
    "ADDRESS_RANGE = 0x1FFFC - 0x10000 # 65532 = 16k * 4\n",
    "regset = MMIO(IP_BASE_ADDRESS, ADDRESS_RANGE)\n",
    "V_ASG = wave()\n",
    "for adr in range(0,0x1FFFC-0x10000,0x4): # 65532\n",
    "    i=int(adr/4)\n",
    "    DATA_VOLT = V_ASG[i]\n",
    "    if (DATA_VOLT > 1): DATA_VOLT = 1\n",
    "    if (DATA_VOLT < -1): DATA_VOLT = -1\n",
    "    if (DATA_VOLT>=0):\n",
    "        DATA = int(np.round((DATA_VOLT)*2**13))-1\n",
    "    else:\n",
    "        DATA = int(np.round((1+DATA_VOLT)*2**13)+2**13) \n",
    "    if (DATA > 2**14-1): DATA = 2**14-1\n",
    "    if (DATA < 0): DATA = 0\n",
    "    regset.write16(adr,DATA)\n",
    "regset = MMIO(0x40200000, 0x2)\n",
    "n = 0\n",
    "while(1):\n",
    "    n += 1\n",
    "    regset.write16(0,1) # Start DAC1 in 1-trig immediately configuration\n",
    "    time.sleep(period)\n",
    "    regset.write16(0,0)\n",
    "    print(n,end=\" \")\n",
    "regset.close()\n"
   ]
  },
  {
   "cell_type": "markdown",
   "metadata": {},
   "source": [
    "## Generate an Arbitrary Wave  with C\n",
    "\n",
    "Now we do the same by using C to generate a sine wave.\n",
    "\n",
    "Copy the *src* folder from   https://github.com/lvillasen/RedPitaya-Hello-World-C  to the folder /home/jupyter/RedPitaya-Hello-World-C/src/ and compile the file *generate_BURST.c* by using the command *gcc generate_BURST.c mmio.c -lm -o generate_BURST*
    "\n",
    "\n",
    "Usage: generate_BURST amplitude(volt) frequency(MHz) n_cycles n_replicas delay(us or 0 for continuous mode) period(ms)\n",
    "\n",
    "Define your arbitrary function in the program, default is Sine"
   ]
  },
  {
   "cell_type": "code",
   "execution_count": null,
   "metadata": {
    "collapsed": true
   },
   "outputs": [],
   "source": [
    "#!/usr/bin/python\n",
    "import subprocess\n",
    "import matplotlib.pyplot as plt\n",
    "output = subprocess.check_output(\"/home/jupyter/RedPitaya-Hello-World-C/src/generate_BURST 1 1 1 2 2 100 \", shell=True)\n"
   ]
  }
 ],
 "metadata": {
  "colab": {
   "authorship_tag": "ABX9TyNv0BGQrNPPZX93zBOwB6ov",
   "collapsed_sections": [],
   "name": "Python_MMIO_v8_OK.ipynb",
   "provenance": []
  },
  "kernelspec": {
   "display_name": "Python 3",
   "language": "python",
   "name": "python3"
  },
  "language_info": {
   "codemirror_mode": {
    "name": "ipython",
    "version": 3
   },
   "file_extension": ".py",
   "mimetype": "text/x-python",
   "name": "python",
   "nbconvert_exporter": "python",
   "pygments_lexer": "ipython3",
   "version": "3.5.2"
  }
 },
 "nbformat": 4,
 "nbformat_minor": 4
}
